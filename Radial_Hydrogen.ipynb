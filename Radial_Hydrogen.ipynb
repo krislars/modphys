{
  "nbformat": 4,
  "nbformat_minor": 0,
  "metadata": {
    "colab": {
      "provenance": [],
      "include_colab_link": true
    },
    "kernelspec": {
      "name": "python3",
      "display_name": "Python 3"
    }
  },
  "cells": [
    {
      "cell_type": "markdown",
      "metadata": {
        "id": "view-in-github",
        "colab_type": "text"
      },
      "source": [
        "<a href=\"https://colab.research.google.com/github/krislars/modphys/blob/master/Radial_Hydrogen.ipynb\" target=\"_parent\"><img src=\"https://colab.research.google.com/assets/colab-badge.svg\" alt=\"Open In Colab\"/></a>"
      ]
    },
    {
      "metadata": {
        "id": "jmLnVzcPctxL"
      },
      "cell_type": "markdown",
      "source": [
        "# Hydrogen Atom"
      ]
    },
    {
      "metadata": {
        "id": "9SDK50hfczur"
      },
      "cell_type": "markdown",
      "source": [
        "Kristen Larson, Western Washington University"
      ]
    },
    {
      "metadata": {
        "id": "gbcLGnLRZpLY"
      },
      "cell_type": "code",
      "source": [
        "from sympy import Symbol,integrate,conjugate,plot,diff,solve,sin,cos,oo,pi\n",
        "from sympy.plotting import plot_parametric,plot3d_parametric_surface\n",
        "from sympy.physics.hydrogen import R_nl,Psi_nlm,Ynm"
      ],
      "execution_count": null,
      "outputs": []
    },
    {
      "metadata": {
        "id": "FDz2ePTlcez3"
      },
      "cell_type": "code",
      "source": [
        "r=Symbol(\"r\", real=True, positive=True)\n",
        "phi=Symbol(\"phi\", real=True)\n",
        "theta=Symbol(\"theta\", real=True)"
      ],
      "execution_count": null,
      "outputs": []
    },
    {
      "metadata": {
        "id": "hgebJvkUd_qi"
      },
      "cell_type": "markdown",
      "source": [
        "## Radial Part, $R_{nl}(r)$"
      ]
    },
    {
      "metadata": {
        "id": "233ib7M0c6lX"
      },
      "cell_type": "markdown",
      "source": [
        "Using Sympy (Symbolic Python, like Mathematica), we can access the hydrogen wavefunctions directly.  Let's start with the radial part, R_nl(r).  Here are some cool things that you can do.\n",
        "1. Print out the wavefunction"
      ]
    },
    {
      "metadata": {
        "id": "W9NNVbY4daJK",
        "outputId": "6de71ef6-d154-4782-eea5-2e265bb8b63f",
        "colab": {
          "base_uri": "https://localhost:8080/",
          "height": 55
        }
      },
      "cell_type": "code",
      "source": [
        "R_nl(2,1,r)"
      ],
      "execution_count": null,
      "outputs": [
        {
          "output_type": "execute_result",
          "data": {
            "text/plain": [
              "sqrt(6)*r*exp(-r/2)/12"
            ],
            "text/latex": "$\\displaystyle \\frac{\\sqrt{6} r e^{- \\frac{r}{2}}}{12}$"
          },
          "metadata": {},
          "execution_count": 5
        }
      ]
    },
    {
      "cell_type": "code",
      "source": [
        "R_nl(3,2,r)"
      ],
      "metadata": {
        "colab": {
          "base_uri": "https://localhost:8080/",
          "height": 55
        },
        "id": "ZtuxHpOVUWXt",
        "outputId": "1484a890-b5bb-4868-acb3-2c91f895debb"
      },
      "execution_count": null,
      "outputs": [
        {
          "output_type": "execute_result",
          "data": {
            "text/plain": [
              "2*sqrt(30)*r**2*exp(-r/3)/1215"
            ],
            "text/latex": "$\\displaystyle \\frac{2 \\sqrt{30} r^{2} e^{- \\frac{r}{3}}}{1215}$"
          },
          "metadata": {},
          "execution_count": 8
        }
      ]
    },
    {
      "cell_type": "code",
      "source": [
        "R_nl(2,0,r)"
      ],
      "metadata": {
        "colab": {
          "base_uri": "https://localhost:8080/",
          "height": 55
        },
        "id": "M0N4Za2cUoWM",
        "outputId": "3190109d-fe4a-4607-e2d6-99c58c394057"
      },
      "execution_count": null,
      "outputs": [
        {
          "output_type": "execute_result",
          "data": {
            "text/plain": [
              "sqrt(2)*(2 - r)*exp(-r/2)/4"
            ],
            "text/latex": "$\\displaystyle \\frac{\\sqrt{2} \\left(2 - r\\right) e^{- \\frac{r}{2}}}{4}$"
          },
          "metadata": {},
          "execution_count": 11
        }
      ]
    },
    {
      "metadata": {
        "id": "93MTXe00epWc"
      },
      "cell_type": "markdown",
      "source": [
        "2. Integrate the wavefunction.  \n",
        "\n",
        "The function below is the probability density integrated over all radii.  How would you change it to be an average?  Try it!  Notice that if you are expecting a radius, the answer is reported as a multiple of the Bohr radius.  Try changing the limits of integration.  What is the change of finding the particle outside of its average?"
      ]
    },
    {
      "metadata": {
        "id": "h_gokoC_Z9lw",
        "outputId": "04aceac8-c229-4585-e713-952bdd5a3e9e",
        "colab": {
          "base_uri": "https://localhost:8080/",
          "height": 37
        }
      },
      "cell_type": "code",
      "source": [
        "integrate(R_nl(2, 0, r)**2 * r**2, (r, 0, oo))"
      ],
      "execution_count": null,
      "outputs": [
        {
          "output_type": "execute_result",
          "data": {
            "text/plain": [
              "1"
            ],
            "text/latex": "$\\displaystyle 1$"
          },
          "metadata": {},
          "execution_count": 12
        }
      ]
    },
    {
      "metadata": {
        "id": "KRp3UsjDgPwH"
      },
      "cell_type": "markdown",
      "source": [
        "3.  Plot the wavefunction\n",
        "\n",
        "The plot below is the probability density.  How would you change it to plot the wavefunction?"
      ]
    },
    {
      "metadata": {
        "id": "4MCXimMvbuE3",
        "outputId": "c0d2012d-93f0-401d-cdcc-977158dbf535",
        "colab": {
          "base_uri": "https://localhost:8080/",
          "height": 315
        }
      },
      "cell_type": "code",
      "source": [
        "p1 = plot(R_nl(5, 0, r)**2 * r**2, (r, 0, 60),\n",
        "          xlabel='radius', ylabel='probability density')\n",
        "p1"
      ],
      "execution_count": null,
      "outputs": [
        {
          "output_type": "display_data",
          "data": {
            "text/plain": [
              "<Figure size 432x288 with 1 Axes>"
            ],
            "image/png": "[encoded data removed]"
          },
          "metadata": {
            "needs_background": "light"
          }
        },
        {
          "output_type": "execute_result",
          "data": {
            "text/plain": [
              "<sympy.plotting.plot.Plot at 0x7fb0621a6710>"
            ]
          },
          "metadata": {},
          "execution_count": 16
        }
      ]
    },
    {
      "metadata": {
        "id": "jBm-eTQAivtV"
      },
      "cell_type": "markdown",
      "source": [
        "4.  Differentiate the wavefunction.\n",
        "\n",
        "Here we differentiate the probability density and set that equal to zero to find the maxima.  Guess what the answer is from the plot above, and then check your understanding below."
      ]
    },
    {
      "metadata": {
        "id": "aH0eYDtvYeRr",
        "outputId": "9ca5be88-80d6-4393-be01-0614c2242294",
        "colab": {
          "base_uri": "https://localhost:8080/",
          "height": 56
        }
      },
      "cell_type": "code",
      "source": [
        "diff(R_nl(2, 0, r)**2 * r**2)"
      ],
      "execution_count": null,
      "outputs": [
        {
          "output_type": "execute_result",
          "data": {
            "text/plain": [
              "-r**2*(2 - r)**2*exp(-r)/8 + r**2*(2*r - 4)*exp(-r)/8 + r*(2 - r)**2*exp(-r)/4"
            ],
            "text/latex": "$\\displaystyle - \\frac{r^{2} \\left(2 - r\\right)^{2} e^{- r}}{8} + \\frac{r^{2} \\left(2 r - 4\\right) e^{- r}}{8} + \\frac{r \\left(2 - r\\right)^{2} e^{- r}}{4}$"
          },
          "metadata": {},
          "execution_count": 17
        }
      ]
    },
    {
      "metadata": {
        "id": "lzPguUPRjgPS",
        "outputId": "b44d2e97-0dd9-4972-bcb9-e9dd76edb5e0",
        "colab": {
          "base_uri": "https://localhost:8080/"
        }
      },
      "cell_type": "code",
      "source": [
        "zeros=solve(diff(R_nl(2, 0, r)**2 * r**2), r)\n",
        "zeros"
      ],
      "execution_count": null,
      "outputs": [
        {
          "output_type": "execute_result",
          "data": {
            "text/plain": [
              "[2, 3 - sqrt(5), sqrt(5) + 3]"
            ]
          },
          "metadata": {},
          "execution_count": 18
        }
      ]
    },
    {
      "metadata": {
        "id": "KjP_1LyOaFYw",
        "outputId": "8ee8df83-c152-4d37-80ec-16a12daaeeed",
        "colab": {
          "base_uri": "https://localhost:8080/"
        }
      },
      "cell_type": "code",
      "source": [
        "zeros_eval=[x.evalf(3) for x in zeros]\n",
        "zeros_eval"
      ],
      "execution_count": null,
      "outputs": [
        {
          "output_type": "execute_result",
          "data": {
            "text/plain": [
              "[2.00, 0.764, 5.24]"
            ]
          },
          "metadata": {},
          "execution_count": 19
        }
      ]
    },
    {
      "metadata": {
        "id": "g1yFSgWsDDEH"
      },
      "cell_type": "markdown",
      "source": [
        "## Full Wavefunction"
      ]
    },
    {
      "metadata": {
        "id": "8A93k_f1hGBK"
      },
      "cell_type": "markdown",
      "source": [
        "Notice that you don't have to use just the radial part or the angular part, as sympy provides the whole wavefunction, $\\psi_{nlm}(r,\\theta,\\phi)$.\n"
      ]
    },
    {
      "cell_type": "code",
      "source": [
        "Psi_nlm(2,0,0,r,phi,theta,Z=1)"
      ],
      "metadata": {
        "colab": {
          "base_uri": "https://localhost:8080/",
          "height": 60
        },
        "id": "XN-cytTQ7xu-",
        "outputId": "bd2a24a3-b7e4-4018-828f-ceb372c4a598"
      },
      "execution_count": null,
      "outputs": [
        {
          "output_type": "execute_result",
          "data": {
            "text/plain": [
              "sqrt(2)*(2 - r)*exp(-r/2)/(8*sqrt(pi))"
            ],
            "text/latex": "$\\displaystyle \\frac{\\sqrt{2} \\left(2 - r\\right) e^{- \\frac{r}{2}}}{8 \\sqrt{\\pi}}$"
          },
          "metadata": {},
          "execution_count": 20
        }
      ]
    },
    {
      "metadata": {
        "id": "hy5Uil6rgsyt",
        "outputId": "7b23c0a1-d608-4e6d-b1cc-c6fc5ba3de50",
        "colab": {
          "base_uri": "https://localhost:8080/",
          "height": 316
        }
      },
      "cell_type": "code",
      "source": [
        "p2 = plot(Psi_nlm(2,0,0,r,phi=0,theta=0,Z=1)**2 * 4 * pi * r**2, (r, 0, 10),\n",
        "          xlabel='radius', ylabel='probability density')\n",
        "p2"
      ],
      "execution_count": null,
      "outputs": [
        {
          "output_type": "display_data",
          "data": {
            "text/plain": [
              "<Figure size 432x288 with 1 Axes>"
            ],
            "image/png": "[encoded data removed]"
          },
          "metadata": {
            "needs_background": "light"
          }
        },
        {
          "output_type": "execute_result",
          "data": {
            "text/plain": [
              "<sympy.plotting.plot.Plot at 0x7fb7fd718350>"
            ]
          },
          "metadata": {},
          "execution_count": 35
        }
      ]
    },
    {
      "cell_type": "code",
      "source": [],
      "metadata": {
        "id": "lMOZqMS69JIb"
      },
      "execution_count": null,
      "outputs": []
    }
  ]
}